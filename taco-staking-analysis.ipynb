{
 "cells": [
  {
   "cell_type": "markdown",
   "metadata": {},
   "source": [
    "# TACo staking analysis"
   ]
  },
  {
   "cell_type": "markdown",
   "metadata": {},
   "source": [
    "## Get the authorizations from subgraph"
   ]
  },
  {
   "cell_type": "code",
   "execution_count": 1,
   "metadata": {},
   "outputs": [],
   "source": [
    "import os\n",
    "import pandas as pd\n",
    "import dotenv\n",
    "from web3 import Web3\n",
    "from web3.middleware import ExtraDataToPOAMiddleware\n",
    "from gql import gql, Client\n",
    "from gql.transport.aiohttp import AIOHTTPTransport\n",
    "\n",
    "dotenv.load_dotenv(\".env\")\n",
    "\n",
    "deauth_period = 15724800\n",
    "w3 = Web3(Web3.HTTPProvider(os.getenv('ETH_RPC_URL')))\n",
    "taco_application_abi = '[ { \"inputs\": [ { \"internalType\": \"address\", \"name\": \"\", \"type\": \"address\" } ], \"name\": \"stakingProviderInfo\", \"outputs\": [ { \"internalType\": \"address\", \"name\": \"operator\", \"type\": \"address\" }, { \"internalType\": \"bool\", \"name\": \"operatorConfirmed\", \"type\": \"bool\" }, { \"internalType\": \"uint64\", \"name\": \"operatorStartTimestamp\", \"type\": \"uint64\" }, { \"internalType\": \"uint96\", \"name\": \"authorized\", \"type\": \"uint96\" }, { \"internalType\": \"uint96\", \"name\": \"deauthorizing\", \"type\": \"uint96\" }, { \"internalType\": \"uint64\", \"name\": \"endDeauthorization\", \"type\": \"uint64\" }, { \"internalType\": \"uint96\", \"name\": \"tReward\", \"type\": \"uint96\" }, { \"internalType\": \"uint160\", \"name\": \"rewardPerTokenPaid\", \"type\": \"uint160\" }, { \"internalType\": \"uint64\", \"name\": \"endCommitment\", \"type\": \"uint64\" }, { \"internalType\": \"uint256\", \"name\": \"stub\", \"type\": \"uint256\" }, { \"internalType\": \"uint192\", \"name\": \"penaltyPercent\", \"type\": \"uint192\" }, { \"internalType\": \"uint64\", \"name\": \"endPenalty\", \"type\": \"uint64\" } ], \"stateMutability\": \"view\", \"type\": \"function\" } ]'\n",
    "taco_application = w3.eth.contract(\n",
    "    address='0x347CC7ede7e5517bD47D20620B2CF1b406edcF07', abi=taco_application_abi)\n",
    "\n",
    "transport = AIOHTTPTransport(\n",
    "    url=\"https://subgraph.satsuma-prod.com/276a55924ce0/nucypher--102994/mainnet/api\")\n",
    "client = Client(transport=transport, fetch_schema_from_transport=True)\n",
    "\n",
    "app_auths_query = gql(\n",
    "    \"\"\"\n",
    "    query appAuthorizations {\n",
    "        appAuthorizations(first: 1000) {\n",
    "            amount\n",
    "            amountDeauthorizing\n",
    "            stake {\n",
    "            id\n",
    "            }\n",
    "            appName\n",
    "        }\n",
    "    }\n",
    "\"\"\"\n",
    ")\n",
    "\n",
    "auths_json = await client.execute_async(app_auths_query)\n",
    "auths_json = auths_json['appAuthorizations']\n",
    "\n",
    "for auth in auths_json:\n",
    "    auth['stakingProvider'] = auth['stake']['id']\n",
    "    del auth['stake']\n",
    "\n",
    "auths = pd.DataFrame(auths_json)\n",
    "auths['amount'] = auths['amount'].apply(int)\n",
    "auths['amount'] = auths['amount'].div(10**18)\n",
    "auths['amount'] = auths['amount'].apply(round)\n",
    "auths['amountDeauthorizing'] = auths['amountDeauthorizing'].apply(int)\n",
    "auths['amountDeauthorizing'] = auths['amountDeauthorizing'].div(10**18)\n",
    "auths['amountDeauthorizing'] = auths['amountDeauthorizing'].apply(round)\n",
    "\n",
    "taco_auths = auths[auths['appName'] == 'TACo']\n",
    "taco_auths.set_index('stakingProvider', inplace=True)\n",
    "taco_auths = taco_auths.drop(columns=['appName'])\n",
    "taco_auths['relativeAmount'] = taco_auths['amount'] / \\\n",
    "    taco_auths['amount'].sum()\n",
    "taco_auths['relativeAmount'] = taco_auths['relativeAmount'].apply(\n",
    "    round, args=(4, ))\n",
    "taco_auths.sort_values(by='amount', ascending=False, inplace=True)"
   ]
  },
  {
   "cell_type": "markdown",
   "metadata": {},
   "source": [
    "## Get the deauthorizing end date from TACo app contract\n",
    "\n",
    "Get the deauthorizing end date for stakes that are deauthorizing and the remaining staked amount is less than 40 000T"
   ]
  },
  {
   "cell_type": "code",
   "execution_count": 2,
   "metadata": {},
   "outputs": [],
   "source": [
    "taco_auths['endDeauth'] = pd.NaT\n",
    "for index, row in taco_auths.iterrows():\n",
    "    remaining_amount = row['amount'] - row['amountDeauthorizing']\n",
    "    if row['amountDeauthorizing'] > 0 and remaining_amount < 40000:\n",
    "        st_prov_info = taco_application.functions.stakingProviderInfo(\n",
    "            w3.to_checksum_address(index)).call()\n",
    "        taco_auths.loc[index, 'endDeauth'] = pd.to_datetime(\n",
    "            st_prov_info[5], unit='s')"
   ]
  },
  {
   "cell_type": "markdown",
   "metadata": {},
   "source": [
    "## Get the TACo commitments fom subgraph"
   ]
  },
  {
   "cell_type": "code",
   "execution_count": 3,
   "metadata": {},
   "outputs": [],
   "source": [
    "def commitment_status(endCommitment):\n",
    "    if pd.isna(endCommitment):\n",
    "        return 'No'\n",
    "    elif pd.Timestamp.now() > endCommitment:\n",
    "        return 'Expired'\n",
    "    else:\n",
    "        return 'Active'\n",
    "\n",
    "\n",
    "commitments_query = gql(\n",
    "    \"\"\"\n",
    "    query commitments {\n",
    "        tacoCommitments(first: 1000) {\n",
    "            id\n",
    "            endCommitment\n",
    "        }\n",
    "    }\n",
    "\"\"\"\n",
    ")\n",
    "\n",
    "commitments_json = await client.execute_async(commitments_query)\n",
    "commitments_json = commitments_json['tacoCommitments']\n",
    "\n",
    "\n",
    "commitments = pd.DataFrame(commitments_json)\n",
    "commitments.rename(columns={'id': 'stakingProvider'}, inplace=True)\n",
    "commitments.set_index('stakingProvider', inplace=True)\n",
    "commitments['endCommitment'] = pd.to_datetime(\n",
    "    commitments['endCommitment'].astype(int), unit='s')\n",
    "\n",
    "taco_auths = taco_auths.join(commitments, how='left')\n",
    "taco_auths['commitment'] = taco_auths['endCommitment'].apply(commitment_status)"
   ]
  },
  {
   "cell_type": "markdown",
   "metadata": {},
   "source": [
    "## Calculate the minimum dauthorization date\n",
    "\n",
    "Note that `endDeauth` is the date in which the TACo stake will be disabled (staked amount < 40000)."
   ]
  },
  {
   "cell_type": "code",
   "execution_count": 4,
   "metadata": {},
   "outputs": [],
   "source": [
    "for index, row in taco_auths.iterrows():\n",
    "    endDeauth = row['endDeauth']\n",
    "    endCommitment = row['endCommitment']\n",
    "    canDeauthorize = pd.isna(\n",
    "        endCommitment) or endCommitment < pd.Timestamp.now()\n",
    "\n",
    "    # if there is an active commitment\n",
    "    if not canDeauthorize:\n",
    "        # it has to wait until the commitment ends and then wait the deauthorization period (6 months)\n",
    "        minDeauthDate = endCommitment + \\\n",
    "            pd.Timedelta(deauth_period, unit='seconds')\n",
    "    # if there is no active commitment, and they are not deauthorizing by the moment\n",
    "    elif pd.isna(endDeauth):\n",
    "        # it has to wait the deauthorization period (6 months)\n",
    "        minDeauthDate = pd.Timestamp.now().round(\n",
    "            freq='s') + pd.Timedelta(deauth_period, unit='seconds')\n",
    "    # if there is no active commitment, and they are already deauthorizing\n",
    "    else:\n",
    "        # it has to wait the remaining deauthorization time (less than 6 months)\n",
    "        minDeauthDate = endDeauth\n",
    "\n",
    "    taco_auths.loc[index, 'minDeauthDate'] = minDeauthDate"
   ]
  },
  {
   "cell_type": "markdown",
   "metadata": {},
   "source": [
    "## Check if the stakes authorize tBTC as well"
   ]
  },
  {
   "cell_type": "code",
   "execution_count": 5,
   "metadata": {},
   "outputs": [],
   "source": [
    "tbtc_auths = auths[(auths['appName'] == 'tBTC') & (auths['amount'] > 0)]\n",
    "tbtc_auths.set_index('stakingProvider', inplace=True)\n",
    "tbtc_auths = tbtc_auths.drop(columns=['appName', 'amountDeauthorizing'])\n",
    "\n",
    "rb_auths = auths[(auths['appName'] == 'Random Beacon') & (auths['amount'] > 0)]\n",
    "rb_auths.set_index('stakingProvider', inplace=True)\n",
    "rb_auths = rb_auths.drop(columns=['appName', 'amountDeauthorizing'])\n",
    "\n",
    "tbtc_rb_auths = tbtc_auths.join(rb_auths, how='outer', rsuffix='_rb', lsuffix='_tbtc')\n",
    "\n",
    "tbtc_rb_auths['tbtc'] = tbtc_rb_auths.min(axis='columns', skipna=False)\n",
    "\n",
    "taco_auths['tbtc'] = tbtc_rb_auths['tbtc']\n",
    "taco_auths['tbtc'] = taco_auths['tbtc'].fillna(0).apply(int)"
   ]
  },
  {
   "cell_type": "markdown",
   "metadata": {},
   "source": [
    "## Get the relevant rituals participants from Coordinator contract"
   ]
  },
  {
   "cell_type": "code",
   "execution_count": 6,
   "metadata": {},
   "outputs": [],
   "source": [
    "coordinator_abi = '[{ \"inputs\": [ { \"internalType\": \"uint32\", \"name\": \"ritualId\", \"type\": \"uint32\" } ], \"name\": \"getParticipants\", \"outputs\": [ { \"components\": [ { \"internalType\": \"address\", \"name\": \"provider\", \"type\": \"address\" }, { \"internalType\": \"bool\", \"name\": \"aggregated\", \"type\": \"bool\" }, { \"internalType\": \"bytes\", \"name\": \"transcript\", \"type\": \"bytes\" }, { \"internalType\": \"bytes\", \"name\": \"decryptionRequestStaticKey\", \"type\": \"bytes\" } ], \"internalType\": \"struct Coordinator.Participant[]\", \"name\": \"\", \"type\": \"tuple[]\" } ], \"stateMutability\": \"view\", \"type\": \"function\" }]'\n",
    "\n",
    "w3 = Web3(Web3.HTTPProvider(os.getenv('POLYGON_URL_ENDPOINT')))\n",
    "w3.middleware_onion.inject(ExtraDataToPOAMiddleware, layer=0)\n",
    "\n",
    "coordinator = w3.eth.contract(\n",
    "    address=\"0xE74259e3dafe30bAA8700238e324b47aC98FE755\", abi=coordinator_abi)\n",
    "\n",
    "\n",
    "def get_participants(ritual_data):\n",
    "    participants = []\n",
    "    for participant in ritual_data:\n",
    "        participants.append(participant[0].lower())\n",
    "    return participants\n",
    "\n",
    "\n",
    "ritual34 = coordinator.functions.getParticipants(34).call()\n",
    "ritual40 = coordinator.functions.getParticipants(40).call()\n",
    "\n",
    "ritual34_participants = get_participants(ritual34)\n",
    "ritual40_participants = get_participants(ritual40)\n",
    "\n",
    "taco_auths['ritual34?'] = taco_auths.index.isin(ritual34_participants)\n",
    "taco_auths['ritual40?'] = taco_auths.index.isin(ritual40_participants)"
   ]
  },
  {
   "cell_type": "markdown",
   "metadata": {},
   "source": [
    "## Get the beta stakers"
   ]
  },
  {
   "cell_type": "code",
   "execution_count": 7,
   "metadata": {},
   "outputs": [],
   "source": [
    "beta_stakers = ['0xaafc71044c2b832dddfcedb0ae99695b0367dc57',\n",
    "                '0x6dee1fd2b29e2214a4f9ab9ba5f3d17c8cb56d11',\n",
    "                '0x5838636dcdd92113998fecbcdedf5b0d8beb4920',\n",
    "                '0xe6c074228932f53c9e50928ad69db760649a8c4d',\n",
    "                '0xc9909e3d0b87a1a2eb0f1194ec5e3694464ac522',\n",
    "                '0xc54238cac19bb8d57a9bcdd28c3fdd49d82378d8',\n",
    "                '0xbf40548b6fd104c3ca9b2f6b2e2383301db1c023',\n",
    "                '0xbdc3d611b79349e0b3d63833619875e89388298d',\n",
    "                '0xb0c9f472b2066691ab7fee5b6702c28ab35888b2',\n",
    "                '0x8afc0e9f8207975301893452bded1e8f2892f953',\n",
    "                '0x58d665406cf0f890dad766389df879e84cc55671',\n",
    "                '0x43df8c68a56249cc151dfb3a7e82cc7fd624cf2a',\n",
    "                '0x39a2d252769363d070a77fe3ad24b9954e1fb876',\n",
    "                '0x331f6346c4c1bdb4ef7467056c66250f0eb8a44f',\n",
    "                '0xeae5790c6ee3b6425f39d3fd33644a7cb90c75a5',\n",
    "                '0xcc957f683a7e3093388946d03193eee10086b900',\n",
    "                '0xba1ac67539c09adde63335635869c86f8e463514',\n",
    "                '0x16fcc54e027a342f0683263eb43cd9af1bd72169',\n",
    "                '0x02faa4286ef91247f8d09f36618d4694717f76bb',\n",
    "                '0xda08c16c86b78cd56cb10fdc0370efc549d8638b',\n",
    "                '0xc0b851dcbf00ba59d8b1f490af93dec4275cffcc',\n",
    "                '0xb88a62417eb9e6320af7620be0cfbe2dddd435a5',\n",
    "                '0xb78f9efe4f713feefcab466d2ee41972a0e45205',\n",
    "                '0x372626ff774573e82eb7d4545ee96f68f75aaff6',\n",
    "                '0xf2962794ebe69fc88f8db441c1cd13b9f90b1fe7',\n",
    "                '0xedd0c77314f07fca414b549156a0d9c915b096e9',\n",
    "                '0x9aa35dce841a43693cde23b86c394e1aefb61c65',\n",
    "                '0x885fa88126955d5cfe0170a134e0300b8d3eff47',\n",
    "                '0xa7baca5a92842689359fb1782e75d6eff59152e6',\n",
    "                '0xa6e3a08fae33898fc31c4f6c7a584827d809352d',\n",
    "                '0xc1268db05e7bd38bd85b2c3fef80f8968a2c933a',\n",
    "                '0xca5ac1b59796be580820e9c66d395977d4f7c3c0',\n",
    "                '0xdc09db6e5da859edeb7fc7bdcf47545056dc35f7',\n",
    "                '0x97d065b567cc4543d20dffaa7009f9ade64d7e26',\n",
    "                '0xe4a3492c8b085ab5edb6fdae329f172056f6b04e']\n",
    "\n",
    "taco_auths['betaStaker?'] = taco_auths.index.isin(beta_stakers)"
   ]
  },
  {
   "cell_type": "markdown",
   "metadata": {},
   "source": [
    "## Export to CSV"
   ]
  },
  {
   "cell_type": "code",
   "execution_count": 8,
   "metadata": {},
   "outputs": [],
   "source": [
    "taco = pd.DataFrame(taco_auths, index=taco_auths.index, columns=[\n",
    "                    'amount', 'relativeAmount', 'minDeauthDate', 'commitment', 'ritual34?', 'ritual40?', 'betaStaker?', 'tbtc'])\n",
    "taco.to_csv('taco.csv', )"
   ]
  }
 ],
 "metadata": {
  "kernelspec": {
   "display_name": "jupyter",
   "language": "python",
   "name": "python3"
  },
  "language_info": {
   "codemirror_mode": {
    "name": "ipython",
    "version": 3
   },
   "file_extension": ".py",
   "mimetype": "text/x-python",
   "name": "python",
   "nbconvert_exporter": "python",
   "pygments_lexer": "ipython3",
   "version": "3.11.6"
  }
 },
 "nbformat": 4,
 "nbformat_minor": 2
}
